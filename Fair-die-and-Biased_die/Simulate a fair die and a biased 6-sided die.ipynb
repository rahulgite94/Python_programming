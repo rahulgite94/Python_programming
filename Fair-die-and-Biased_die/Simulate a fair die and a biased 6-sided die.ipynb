{
 "cells": [
  {
   "cell_type": "markdown",
   "metadata": {},
   "source": [
    "Simulate a fair die and a biased 6-sided die.<br>\n",
    "The biased die has probabilities {0.15, 0.15, 0.15, 0.15, 0.15, 0.25}. <br>\n",
    "Create a visualization that compares outcomes of multiple rolls of a fair die and this biased die.<br>\n",
    "You can use a single visualization or multiple visualizations to demonstrate the difference in outcomes for the dice. <br>\n",
    "The user of your notebook should be able to alter the number of simulations as an argument to a function.​<br>"
   ]
  },
  {
   "cell_type": "code",
   "execution_count": 1,
   "metadata": {},
   "outputs": [],
   "source": [
    "import random\n",
    "import matplotlib.pyplot as plt\n",
    "import numpy as np"
   ]
  },
  {
   "cell_type": "markdown",
   "metadata": {},
   "source": [
    "#### User entry for number of  times adice needs to be rolled"
   ]
  },
  {
   "cell_type": "code",
   "execution_count": 2,
   "metadata": {},
   "outputs": [
    {
     "name": "stdout",
     "output_type": "stream",
     "text": [
      "Please enter number of times you want to roll a dice: 300\n"
     ]
    }
   ],
   "source": [
    "numOfRolls=int(input(\"Please enter number of times you want to roll a dice: \"))"
   ]
  },
  {
   "cell_type": "markdown",
   "metadata": {},
   "source": [
    "#### Fair Dice rolls and storing the outcomes in a list"
   ]
  },
  {
   "cell_type": "code",
   "execution_count": 3,
   "metadata": {},
   "outputs": [],
   "source": [
    "dice=['one','two','three','four','five','six']\n",
    "def fairDieRolls(numOfRolls,lst):\n",
    "    fairRolls=[]\n",
    "    for _ in range(0,numOfRolls):\n",
    "        outcome=random.choice(lst)\n",
    "        fairRolls.append(outcome)\n",
    "    return fairRolls"
   ]
  },
  {
   "cell_type": "code",
   "execution_count": 4,
   "metadata": {},
   "outputs": [],
   "source": [
    "fairRolls=fairDieRolls(numOfRolls,dice)"
   ]
  },
  {
   "cell_type": "markdown",
   "metadata": {},
   "source": [
    "#### Biased dice rolls with the respective weight "
   ]
  },
  {
   "cell_type": "code",
   "execution_count": 5,
   "metadata": {},
   "outputs": [],
   "source": [
    "def biasedDieRolls(numOfRolls,lst):\n",
    "    return random.choices(lst, [0.15, 0.15, 0.15, 0.15, 0.15, 0.25], k=numOfRolls)"
   ]
  },
  {
   "cell_type": "markdown",
   "metadata": {},
   "source": [
    "#### storing biased outcomes in a list"
   ]
  },
  {
   "cell_type": "code",
   "execution_count": 6,
   "metadata": {},
   "outputs": [],
   "source": [
    "biasedRolls=biasedDieRolls(numOfRolls,dice)"
   ]
  },
  {
   "cell_type": "markdown",
   "metadata": {},
   "source": [
    "#### Plotting the outcomes of  FairDice rolls"
   ]
  },
  {
   "cell_type": "code",
   "execution_count": 7,
   "metadata": {},
   "outputs": [
    {
     "data": {
      "image/png": "[encoded data removed]",
      "text/plain": [
       "<Figure size 432x288 with 1 Axes>"
      ]
     },
     "metadata": {
      "needs_background": "light"
     },
     "output_type": "display_data"
    }
   ],
   "source": [
    "plt.hist(fairRolls)\n",
    "plt.xlabel(\"Dice Value\")\n",
    "plt.ylabel(\"Number of counts\")\n",
    "plt.title(\"Fair Dice Roll\")\n",
    "plt.show()"
   ]
  },
  {
   "cell_type": "markdown",
   "metadata": {},
   "source": [
    "#### Plotting the outcomes of  Biased dice rolls, and observing that the probability of the number \"six\" was greater so as plot says."
   ]
  },
  {
   "cell_type": "code",
   "execution_count": 8,
   "metadata": {},
   "outputs": [
    {
     "data": {
      "image/png": "[encoded data removed]",
      "text/plain": [
       "<Figure size 432x288 with 1 Axes>"
      ]
     },
     "metadata": {
      "needs_background": "light"
     },
     "output_type": "display_data"
    }
   ],
   "source": [
    "plt.hist(biasedRolls);\n",
    "plt.xlabel(\"Dice Value\")\n",
    "plt.ylabel(\"Number of counts\")\n",
    "plt.title(\"Biased Dice Roll\")\n",
    "plt.show()"
   ]
  }
 ],
 "metadata": {
  "kernelspec": {
   "display_name": "Python 3",
   "language": "python",
   "name": "python3"
  },
  "language_info": {
   "codemirror_mode": {
    "name": "ipython",
    "version": 3
   },
   "file_extension": ".py",
   "mimetype": "text/x-python",
   "name": "python",
   "nbconvert_exporter": "python",
   "pygments_lexer": "ipython3",
   "version": "3.7.3"
  }
 },
 "nbformat": 4,
 "nbformat_minor": 2
}
