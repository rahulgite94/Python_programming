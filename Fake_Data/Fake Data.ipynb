{
 "cells": [
  {
   "cell_type": "markdown",
   "metadata": {},
   "source": [
    "Write a Python notebook that generates a file containing the following data:​ ​\n",
    "\n",
    "Email addresses​. Must have an \"@\"\n",
    "Phone numbers <br>\n",
    "Home Address​<br>\n",
    "Person's name​<br>\n",
    "Year born. Use realistic values.​<br>\n",
    "Number of kids. Use realistic values.​<br>\n",
    "Categorical variable: rent or own?​<br>\n",
    "Annual income. Optional challenge: Use a non-uniform distribution​<br>\n",
    "Number of speeding tickets in past year. Optional challenge: Use a non-uniform distribution​<br>\n",
    "The user of your notebook should be able to specify how many entities are to be generated.​ <br>\n",
    "\n",
    "​Do not include the .csv output file in your submission -- the file should be generated dynamically.\n",
    "\n",
    "Order of columns in CSV is not relevant."
   ]
  },
  {
   "cell_type": "markdown",
   "metadata": {},
   "source": [
    "### Limitaions: This program can generate upto 20 rows of fakedata"
   ]
  },
  {
   "cell_type": "markdown",
   "metadata": {},
   "source": [
    "#### Importing required Libraries"
   ]
  },
  {
   "cell_type": "code",
   "execution_count": 1,
   "metadata": {},
   "outputs": [],
   "source": [
    "#from bs4 import BeautifulSoup as bs\n",
    "import requests as rq\n",
    "import pandas as pd\n",
    "import numpy as np\n",
    "import itertools as itr\n",
    "from faker import Faker\n",
    "import glob"
   ]
  },
  {
   "cell_type": "markdown",
   "metadata": {},
   "source": [
    "#### Every function returns specific count of records which will be requested by the user.\n",
    "#### Scraping the names from the https://www.ssa.gov/oact/babynames/ and maintaining it in a list."
   ]
  },
  {
   "cell_type": "code",
   "execution_count": 2,
   "metadata": {},
   "outputs": [],
   "source": [
    "def getNames(count):\n",
    "    webTable=pd.read_html('https://www.ssa.gov/oact/babynames/')\n",
    "    arr= webTable[0].values\n",
    "    names=[]\n",
    "    for listt in arr:\n",
    "        for name in listt :\n",
    "            if isinstance(name, str):\n",
    "                names.append(name)\n",
    "    return names[:count]"
   ]
  },
  {
   "cell_type": "markdown",
   "metadata": {},
   "source": [
    "#### Appending the \"@gmail.com\" on every name in the list and creating there email"
   ]
  },
  {
   "cell_type": "code",
   "execution_count": 3,
   "metadata": {},
   "outputs": [],
   "source": [
    "def getEmail(count):\n",
    "    names= getNames(count)\n",
    "    emails=[]\n",
    "    for i in names:\n",
    "        emails.append(i+'@gmail.com')\n",
    "    return emails[:count]"
   ]
  },
  {
   "cell_type": "markdown",
   "metadata": {},
   "source": [
    "#### Testing above functions"
   ]
  },
  {
   "cell_type": "code",
   "execution_count": 4,
   "metadata": {},
   "outputs": [
    {
     "name": "stdout",
     "output_type": "stream",
     "text": [
      "['Liam', 'Emma', 'Noah', 'Olivia', 'William']\n",
      "['Liam@gmail.com', 'Emma@gmail.com', 'Noah@gmail.com', 'Olivia@gmail.com', 'William@gmail.com']\n"
     ]
    }
   ],
   "source": [
    "print(getNames(5))\n",
    "print(getEmail(5))"
   ]
  },
  {
   "cell_type": "markdown",
   "metadata": {},
   "source": [
    "#### Randomly generating the phone number with formating"
   ]
  },
  {
   "cell_type": "code",
   "execution_count": 5,
   "metadata": {},
   "outputs": [],
   "source": [
    "def phoneNumber():\n",
    "    l1=str(np.random.randint(1,9,3)).strip(\"[]\")\n",
    "    l2=str(np.random.randint(0,9,3)).strip(\"[]\")\n",
    "    l3=str(np.random.randint(0,9,4)).strip(\"[]\")\n",
    "    return '{}-{}-{}'.format(l1,l2,l3)"
   ]
  },
  {
   "cell_type": "markdown",
   "metadata": {},
   "source": [
    "#### Calling the above function based on count"
   ]
  },
  {
   "cell_type": "code",
   "execution_count": 6,
   "metadata": {},
   "outputs": [],
   "source": [
    "def getPhoneNumber(count):\n",
    "    phoneNumbers=[]\n",
    "    for _ in range(count):\n",
    "        phoneNumbers.append(phoneNumber()) \n",
    "    return phoneNumbers"
   ]
  },
  {
   "cell_type": "markdown",
   "metadata": {},
   "source": [
    "#### Sample run"
   ]
  },
  {
   "cell_type": "code",
   "execution_count": 7,
   "metadata": {},
   "outputs": [
    {
     "data": {
      "text/plain": [
       "['1 4 5-0 3 2-5 4 7 5',\n",
       " '6 4 8-8 5 0-5 6 7 3',\n",
       " '2 5 2-3 3 2-6 5 7 5',\n",
       " '2 1 6-0 3 8-0 0 0 7',\n",
       " '1 5 8-1 7 8-5 4 4 8',\n",
       " '7 6 7-4 5 3-6 2 2 7',\n",
       " '3 4 5-0 1 2-2 7 4 4',\n",
       " '1 4 3-1 6 6-7 7 0 0',\n",
       " '7 5 4-0 0 2-2 8 1 8',\n",
       " '2 1 7-8 4 2-8 5 7 2']"
      ]
     },
     "execution_count": 7,
     "metadata": {},
     "output_type": "execute_result"
    }
   ],
   "source": [
    "getPhoneNumber(10)"
   ]
  },
  {
   "cell_type": "markdown",
   "metadata": {},
   "source": [
    "#### While researching about the assignment found an interesting approach through Faker library. Which allows you to direclty generate the fake data in a proper format.\n",
    "source: https://www.geeksforgeeks.org/python-faker-library/"
   ]
  },
  {
   "cell_type": "code",
   "execution_count": 8,
   "metadata": {},
   "outputs": [],
   "source": [
    "def getAddress(count):\n",
    "    addresses=[]\n",
    "    for _ in range(count):\n",
    "        addresses.append(Faker().address())\n",
    "    return addresses"
   ]
  },
  {
   "cell_type": "code",
   "execution_count": 9,
   "metadata": {},
   "outputs": [
    {
     "data": {
      "text/plain": [
       "['83712 Velazquez Island\\nCabreraside, NE 26619',\n",
       " 'Unit 9608 Box 7792\\nDPO AA 81150',\n",
       " 'USNS Rojas\\nFPO AA 95329',\n",
       " '59236 Todd Prairie\\nJamesfurt, NM 55079',\n",
       " '00751 Smith Dam\\nWest Robert, RI 61654',\n",
       " 'PSC 1436, Box 7270\\nAPO AP 89104',\n",
       " '5139 Garcia Radial\\nPort Jackport, CO 71764',\n",
       " '95154 Myers Harbor\\nJohnsonville, KY 13187']"
      ]
     },
     "execution_count": 9,
     "metadata": {},
     "output_type": "execute_result"
    }
   ],
   "source": [
    "getAddress(8)"
   ]
  },
  {
   "cell_type": "markdown",
   "metadata": {},
   "source": [
    "#### Randomly generating the birth year from 1970 to 2000, to make it realistic"
   ]
  },
  {
   "cell_type": "code",
   "execution_count": 10,
   "metadata": {},
   "outputs": [],
   "source": [
    "def getBirthYear(count):\n",
    "    return list(np.random.randint(1970,2000,count))"
   ]
  },
  {
   "cell_type": "code",
   "execution_count": 11,
   "metadata": {},
   "outputs": [
    {
     "data": {
      "text/plain": [
       "[1991, 1979, 1986, 1986, 1993, 1974, 1971, 1977]"
      ]
     },
     "execution_count": 11,
     "metadata": {},
     "output_type": "execute_result"
    }
   ],
   "source": [
    "getBirthYear(8)"
   ]
  },
  {
   "cell_type": "markdown",
   "metadata": {},
   "source": [
    "#### Randomly generating the number of kids"
   ]
  },
  {
   "cell_type": "code",
   "execution_count": 12,
   "metadata": {},
   "outputs": [],
   "source": [
    "def getNumberOfKids(count):\n",
    "    return list(np.random.randint(0,5,count))"
   ]
  },
  {
   "cell_type": "markdown",
   "metadata": {},
   "source": [
    "#### Randomly choosing from the Rent or own "
   ]
  },
  {
   "cell_type": "code",
   "execution_count": 13,
   "metadata": {},
   "outputs": [],
   "source": [
    "def getRentorOwn(count):\n",
    "    RoN=[]\n",
    "    for _ in range(count):\n",
    "        RoN.append(np.random.choice(['Rent','Own']))\n",
    "    return RoN"
   ]
  },
  {
   "cell_type": "code",
   "execution_count": 14,
   "metadata": {},
   "outputs": [
    {
     "data": {
      "text/plain": [
       "['Own', 'Own', 'Own', 'Own', 'Own']"
      ]
     },
     "execution_count": 14,
     "metadata": {},
     "output_type": "execute_result"
    }
   ],
   "source": [
    "getRentorOwn(5)"
   ]
  },
  {
   "cell_type": "markdown",
   "metadata": {},
   "source": [
    "#### Tried to achieve the non uniform distribution.\n",
    "#### Took half of count, below the average salary of a US citizen (poor) and half of count above the average salary (rich)"
   ]
  },
  {
   "cell_type": "code",
   "execution_count": 15,
   "metadata": {},
   "outputs": [],
   "source": [
    "#averageIncome=59039\n",
    "def getIncome(count):\n",
    "    poor=list(np.random.randint(1000,59039,int(count/2)))\n",
    "    rich=list(np.random.randint(59039,90000,(count-len(poor))))\n",
    "    return poor+rich"
   ]
  },
  {
   "cell_type": "code",
   "execution_count": 16,
   "metadata": {},
   "outputs": [
    {
     "data": {
      "text/plain": [
       "[57634, 2937, 33706, 11389, 79311, 61552, 65717, 67830, 84384]"
      ]
     },
     "execution_count": 16,
     "metadata": {},
     "output_type": "execute_result"
    }
   ],
   "source": [
    "getIncome(9)"
   ]
  },
  {
   "cell_type": "markdown",
   "metadata": {},
   "source": [
    "#### Generating random numbers of tickets issued"
   ]
  },
  {
   "cell_type": "code",
   "execution_count": 17,
   "metadata": {},
   "outputs": [],
   "source": [
    "def getTicket(count):\n",
    "    return list(np.random.randint(0,5,count))"
   ]
  },
  {
   "cell_type": "code",
   "execution_count": 21,
   "metadata": {},
   "outputs": [
    {
     "data": {
      "text/plain": [
       "[2, 4, 3, 3, 0]"
      ]
     },
     "execution_count": 21,
     "metadata": {},
     "output_type": "execute_result"
    }
   ],
   "source": [
    "getTicket(5)"
   ]
  },
  {
   "cell_type": "markdown",
   "metadata": {},
   "source": [
    "#### Accululating all the results of above funcation into a data frame and writing it to a csv file"
   ]
  },
  {
   "cell_type": "code",
   "execution_count": 18,
   "metadata": {},
   "outputs": [],
   "source": [
    "def createCSV(fileName,count):\n",
    "    df2 = pd.DataFrame({'Names':getNames(count),\n",
    "                        'Email':getEmail(count),\n",
    "                        'Phone Number':getPhoneNumber(count),\n",
    "                        'Address':getAddress(count),\n",
    "                        'Birth Year':getBirthYear(count),\n",
    "                        'Annual Income':getIncome(count),\n",
    "                        'Speeding Tickets':getTicket(count)\n",
    "                       })\n",
    "    df2.to_csv(fileName, index = None, header=True)"
   ]
  },
  {
   "cell_type": "code",
   "execution_count": 19,
   "metadata": {},
   "outputs": [],
   "source": [
    "#### getting the file name and asking to reenter in file name already present\n",
    "#### Getting the count from the user for number of entries"
   ]
  },
  {
   "cell_type": "code",
   "execution_count": 20,
   "metadata": {},
   "outputs": [
    {
     "name": "stdout",
     "output_type": "stream",
     "text": [
      "Enter file name:FakeData01.csv\n",
      "Please enter the number of counts:20\n"
     ]
    }
   ],
   "source": [
    "fileName=input('Enter file name:')\n",
    "files_present = glob.glob(fileName)\n",
    "if  files_present:\n",
    "    fileName=input('File name already exist enter another file name:')\n",
    "count= int(input('Please enter the number of counts:'))\n",
    "createCSV(fileName,count)"
   ]
  },
  {
   "cell_type": "code",
   "execution_count": null,
   "metadata": {},
   "outputs": [],
   "source": []
  }
 ],
 "metadata": {
  "kernelspec": {
   "display_name": "Python 3",
   "language": "python",
   "name": "python3"
  },
  "language_info": {
   "codemirror_mode": {
    "name": "ipython",
    "version": 3
   },
   "file_extension": ".py",
   "mimetype": "text/x-python",
   "name": "python",
   "nbconvert_exporter": "python",
   "pygments_lexer": "ipython3",
   "version": "3.7.3"
  }
 },
 "nbformat": 4,
 "nbformat_minor": 2
}
