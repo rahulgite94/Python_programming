{
 "cells": [
  {
   "cell_type": "markdown",
   "metadata": {},
   "source": [
    "You get an Excel spreadsheet that has two worksheets, \"patient info\" and \"records\"<br>\n",
    "\n",
    "Each worksheet has data and visualizations and formulas\n",
    "Each row in each worksheet represents information associated with a single person.. ​<br>\n",
    "Worksheet \"patient info\" has a \"patient id\" column; ​<br>\n",
    "Worksheet \"records\" has a \"p_id\" column​<br>\n",
    "The \"patient id\" values in \"patient info\" tab are the same variable as \"p_id\" in \"records\". Some people have information on both sheets, while other people have information only on one sheet.\n",
    "Use openpyxl to copy information about patients from \"records\" to \"patient info\"​<br>. Submit a notebook that reads the Excel spreadsheet and produces a separate spreadsheet with the following modifications:​<br>\n",
    "\n",
    "For each patient identified by \"p_id\" listed in the \"records\" sheet that don't exist in \"patient info,\" create a new row in \"patient info\". The row from \"records\" should be copied to the row in \"patient info.\"\n",
    "For each patient listed in the \"records\" sheet where \"p_id\" appears \"patient info\" under \"patient id,\" copy the data in the row from records to \"patient info\" sheet\n",
    "Make no changes to the visualizations that exist in each worksheet​<br>\n",
    "Make no changes to the data in the \"records\"​ sheet<br><br>\n",
    "Write your changes to a new .xlsx file (don't overwrite the original)<br>"
   ]
  },
  {
   "cell_type": "markdown",
   "metadata": {},
   "source": [
    "#### we will be using openpyxl"
   ]
  },
  {
   "cell_type": "code",
   "execution_count": 1,
   "metadata": {},
   "outputs": [],
   "source": [
    "import openpyxl"
   ]
  },
  {
   "cell_type": "markdown",
   "metadata": {},
   "source": [
    "#### Load the Workbook"
   ]
  },
  {
   "cell_type": "code",
   "execution_count": 2,
   "metadata": {},
   "outputs": [],
   "source": [
    "wb= openpyxl.load_workbook('week_05_homework_XLSX_openpyxl.xlsx')"
   ]
  },
  {
   "cell_type": "code",
   "execution_count": 3,
   "metadata": {},
   "outputs": [
    {
     "name": "stdout",
     "output_type": "stream",
     "text": [
      "['patient info', 'records']\n"
     ]
    }
   ],
   "source": [
    "print(wb.sheetnames)"
   ]
  },
  {
   "cell_type": "code",
   "execution_count": 4,
   "metadata": {},
   "outputs": [
    {
     "name": "stdout",
     "output_type": "stream",
     "text": [
      "<Worksheet \"records\">\n"
     ]
    }
   ],
   "source": [
    "print(wb.active)"
   ]
  },
  {
   "cell_type": "markdown",
   "metadata": {},
   "source": [
    "Getting the sheet by name and storing it in a variable"
   ]
  },
  {
   "cell_type": "code",
   "execution_count": 5,
   "metadata": {},
   "outputs": [],
   "source": [
    "patientInfo=wb['patient info']"
   ]
  },
  {
   "cell_type": "markdown",
   "metadata": {},
   "source": [
    "coping the patientInfo sheet to a new patient info copy"
   ]
  },
  {
   "cell_type": "code",
   "execution_count": 6,
   "metadata": {},
   "outputs": [
    {
     "data": {
      "text/plain": [
       "<Worksheet \"patient info Copy\">"
      ]
     },
     "execution_count": 6,
     "metadata": {},
     "output_type": "execute_result"
    }
   ],
   "source": [
    "wb.copy_worksheet(patientInfo)"
   ]
  },
  {
   "cell_type": "markdown",
   "metadata": {},
   "source": [
    "Saving the worksheet"
   ]
  },
  {
   "cell_type": "code",
   "execution_count": 7,
   "metadata": {},
   "outputs": [],
   "source": [
    "wb.save('week_05_homework_XLSX_openpyxl.xlsx')"
   ]
  },
  {
   "cell_type": "markdown",
   "metadata": {},
   "source": [
    "Again loading the workbook"
   ]
  },
  {
   "cell_type": "code",
   "execution_count": 8,
   "metadata": {},
   "outputs": [],
   "source": [
    "wb= openpyxl.load_workbook('week_05_homework_XLSX_openpyxl.xlsx')"
   ]
  },
  {
   "cell_type": "code",
   "execution_count": 9,
   "metadata": {},
   "outputs": [
    {
     "name": "stdout",
     "output_type": "stream",
     "text": [
      "['patient info', 'records', 'patient info Copy']\n"
     ]
    }
   ],
   "source": [
    "print(wb.sheetnames)"
   ]
  },
  {
   "cell_type": "markdown",
   "metadata": {},
   "source": [
    "#### getting the whole sheet into variables\n",
    "now we will refer patient info Copy worksheet as copyPatient"
   ]
  },
  {
   "cell_type": "code",
   "execution_count": 10,
   "metadata": {},
   "outputs": [],
   "source": [
    "records=wb['records']\n",
    "copyPatient=wb['patient info Copy']"
   ]
  },
  {
   "cell_type": "markdown",
   "metadata": {},
   "source": [
    "Getting the patient_id column from patient info Copy"
   ]
  },
  {
   "cell_type": "code",
   "execution_count": 11,
   "metadata": {},
   "outputs": [],
   "source": [
    "patientId=[]\n",
    "first_column = copyPatient['A']\n",
    "for x in range(len(first_column)):\n",
    "    patientId.append(first_column[x].value)"
   ]
  },
  {
   "cell_type": "code",
   "execution_count": 12,
   "metadata": {
    "scrolled": true
   },
   "outputs": [
    {
     "data": {
      "text/plain": [
       "54826"
      ]
     },
     "execution_count": 12,
     "metadata": {},
     "output_type": "execute_result"
    }
   ],
   "source": [
    "patientId[4]"
   ]
  },
  {
   "cell_type": "markdown",
   "metadata": {},
   "source": [
    "Getting the p_id from records"
   ]
  },
  {
   "cell_type": "code",
   "execution_count": 13,
   "metadata": {},
   "outputs": [],
   "source": [
    "p_id=[]\n",
    "first_column_records=records['A']\n",
    "for x in range(len(first_column_records)):\n",
    "    p_id.append(first_column_records[x].value)"
   ]
  },
  {
   "cell_type": "markdown",
   "metadata": {
    "scrolled": true
   },
   "source": [
    "Getting all the values which are in p_id but not in patient_id"
   ]
  },
  {
   "cell_type": "code",
   "execution_count": 14,
   "metadata": {},
   "outputs": [],
   "source": [
    "notCommonPatient=[]\n",
    "for x in p_id:\n",
    "    if x not in patientId:\n",
    "        notCommonPatient.append(x)"
   ]
  },
  {
   "cell_type": "code",
   "execution_count": 15,
   "metadata": {},
   "outputs": [],
   "source": [
    "commonPatient=[]\n",
    "for x in p_id:\n",
    "    if x in patientId:\n",
    "        commonPatient.append(x)"
   ]
  },
  {
   "cell_type": "code",
   "execution_count": 16,
   "metadata": {
    "scrolled": true
   },
   "outputs": [
    {
     "data": {
      "text/plain": [
       "[54257,\n",
       " 15600,\n",
       " 68410,\n",
       " 47404,\n",
       " 50108,\n",
       " 76034,\n",
       " 65663,\n",
       " 48346,\n",
       " 20029,\n",
       " 31902,\n",
       " 43949,\n",
       " 25280,\n",
       " 79663,\n",
       " 79953,\n",
       " 56134,\n",
       " 48529,\n",
       " 11649,\n",
       " 94172,\n",
       " 31248,\n",
       " 80250,\n",
       " 29685,\n",
       " 65523,\n",
       " 17835,\n",
       " 16096,\n",
       " 14279,\n",
       " 31408,\n",
       " 54826,\n",
       " 72016,\n",
       " 37298,\n",
       " 57676,\n",
       " 92180,\n",
       " 51669,\n",
       " 87464,\n",
       " 77675,\n",
       " 19084,\n",
       " 51695,\n",
       " 98612,\n",
       " 80161,\n",
       " 75667,\n",
       " 17199,\n",
       " 95217,\n",
       " 52158,\n",
       " 52827,\n",
       " 95547,\n",
       " 98375,\n",
       " 96259,\n",
       " 74348,\n",
       " 45313,\n",
       " 61243,\n",
       " 63336,\n",
       " 28203,\n",
       " 92158,\n",
       " 30520,\n",
       " 67182,\n",
       " 67206,\n",
       " 85351,\n",
       " 87622,\n",
       " 42617,\n",
       " 52682,\n",
       " 47582,\n",
       " 99283,\n",
       " 35813,\n",
       " 49045,\n",
       " 58894,\n",
       " 71644,\n",
       " 18589,\n",
       " 45058,\n",
       " 59140,\n",
       " 23156,\n",
       " 49094,\n",
       " 88865,\n",
       " 46313,\n",
       " 11945,\n",
       " 40555,\n",
       " 23409,\n",
       " 36498,\n",
       " 36128,\n",
       " 17554,\n",
       " 47259,\n",
       " 56205,\n",
       " 64573,\n",
       " 71180,\n",
       " 50504,\n",
       " 76262,\n",
       " 12682,\n",
       " 78110,\n",
       " 87915,\n",
       " 82027,\n",
       " 75723,\n",
       " 22300,\n",
       " 67354,\n",
       " 83782,\n",
       " 54680,\n",
       " 54921,\n",
       " 28859,\n",
       " 46781,\n",
       " 30892,\n",
       " 23339,\n",
       " 83060,\n",
       " 93524,\n",
       " 80140,\n",
       " 37747,\n",
       " 30393,\n",
       " 25280,\n",
       " 14262,\n",
       " 12199,\n",
       " 40965,\n",
       " 29358,\n",
       " 86392,\n",
       " 44932,\n",
       " 38851,\n",
       " 21407,\n",
       " 84354,\n",
       " 39487,\n",
       " 42799,\n",
       " 99852,\n",
       " 43896,\n",
       " 42626,\n",
       " 12673,\n",
       " 82802,\n",
       " 26731,\n",
       " 32085,\n",
       " 54560,\n",
       " 24323,\n",
       " 59844,\n",
       " 54666,\n",
       " 79991,\n",
       " 66531,\n",
       " 54462,\n",
       " 28529,\n",
       " 85240,\n",
       " 83309,\n",
       " 67095,\n",
       " 84567,\n",
       " 73709,\n",
       " 79420,\n",
       " 36516,\n",
       " 45986,\n",
       " 11299,\n",
       " 79903,\n",
       " 73263,\n",
       " 45464,\n",
       " 30933,\n",
       " 99725,\n",
       " 47797,\n",
       " 24660,\n",
       " 52799,\n",
       " 83817,\n",
       " 59480,\n",
       " 22976,\n",
       " 98887,\n",
       " 46637,\n",
       " 76990,\n",
       " 20228,\n",
       " 45458,\n",
       " 75839,\n",
       " 49168,\n",
       " 46637,\n",
       " 79777,\n",
       " 86497,\n",
       " 81411,\n",
       " 65513,\n",
       " 17340,\n",
       " 39452,\n",
       " 34004,\n",
       " 73187,\n",
       " 25123,\n",
       " 92125,\n",
       " 32395,\n",
       " 31325,\n",
       " 92785,\n",
       " 51498,\n",
       " 85746,\n",
       " 12417,\n",
       " 46626,\n",
       " 44945,\n",
       " 21254,\n",
       " 66905,\n",
       " 91615,\n",
       " 28669,\n",
       " 34115,\n",
       " 13612,\n",
       " 81678,\n",
       " 58520,\n",
       " 40018,\n",
       " 26002,\n",
       " 39536,\n",
       " 86670,\n",
       " 52001,\n",
       " 93676,\n",
       " 32075,\n",
       " 32031,\n",
       " 52950,\n",
       " 92281,\n",
       " 83298,\n",
       " 59606,\n",
       " 43554,\n",
       " 70003,\n",
       " 74131,\n",
       " 51632,\n",
       " 97472,\n",
       " 73100,\n",
       " 19105,\n",
       " 15958,\n",
       " 16197,\n",
       " 55289,\n",
       " 40888,\n",
       " 20224,\n",
       " 11583,\n",
       " 14600,\n",
       " 69082,\n",
       " 16848,\n",
       " 29751,\n",
       " 44656,\n",
       " 41656,\n",
       " 41241,\n",
       " 34591,\n",
       " 31998,\n",
       " 86507,\n",
       " 93810,\n",
       " 46291,\n",
       " 16954,\n",
       " 46631,\n",
       " 15127,\n",
       " 46692,\n",
       " 58726,\n",
       " 59039,\n",
       " 73544,\n",
       " 31036,\n",
       " 46626,\n",
       " 12050,\n",
       " 84152,\n",
       " 12070,\n",
       " 69032,\n",
       " 66399,\n",
       " 13865,\n",
       " 20786,\n",
       " 21609,\n",
       " 99742,\n",
       " 91528,\n",
       " 57340,\n",
       " 75639,\n",
       " 35266,\n",
       " 17514,\n",
       " 51936,\n",
       " 17402,\n",
       " 21977,\n",
       " 99448,\n",
       " 35266,\n",
       " 80496,\n",
       " 83796,\n",
       " 26889,\n",
       " 27958,\n",
       " 87416,\n",
       " 56724,\n",
       " 95189,\n",
       " 19369,\n",
       " 12038,\n",
       " 20239,\n",
       " 76366,\n",
       " 84851,\n",
       " 67205,\n",
       " 37797,\n",
       " 37975,\n",
       " 78804,\n",
       " 56296,\n",
       " 25324,\n",
       " 35902,\n",
       " 60397,\n",
       " 97696,\n",
       " 73537,\n",
       " 25695,\n",
       " 66329,\n",
       " 72823,\n",
       " 17716,\n",
       " 63297,\n",
       " 96162,\n",
       " 83433,\n",
       " 89342,\n",
       " 47832,\n",
       " 78701,\n",
       " 35535,\n",
       " 89077,\n",
       " 58349,\n",
       " 43484,\n",
       " 38771,\n",
       " 56352,\n",
       " 39025,\n",
       " 19421,\n",
       " 69997,\n",
       " 61880,\n",
       " 39682,\n",
       " 73425,\n",
       " 35891,\n",
       " 40010,\n",
       " 67545,\n",
       " 45725,\n",
       " 34739,\n",
       " 96215,\n",
       " 65835,\n",
       " 35185,\n",
       " 52597,\n",
       " 24088,\n",
       " 24452,\n",
       " 11588,\n",
       " 92136,\n",
       " 76741,\n",
       " 47608,\n",
       " 47292,\n",
       " 62402,\n",
       " 98942,\n",
       " 10492,\n",
       " 30661,\n",
       " 87243,\n",
       " 20438,\n",
       " 46938,\n",
       " 13774,\n",
       " 62594,\n",
       " 62147,\n",
       " 69028,\n",
       " 79832,\n",
       " 55402,\n",
       " 28219,\n",
       " 19243,\n",
       " 82339,\n",
       " 47795,\n",
       " 80320,\n",
       " 41005,\n",
       " 97198,\n",
       " 51031,\n",
       " 26995,\n",
       " 75684,\n",
       " 59429,\n",
       " 75218,\n",
       " 83487,\n",
       " 55078,\n",
       " 22845,\n",
       " 47440,\n",
       " 80869,\n",
       " 67942,\n",
       " 71214,\n",
       " 66367,\n",
       " 79378,\n",
       " 68073,\n",
       " 64472,\n",
       " 69245,\n",
       " 28989,\n",
       " 56865,\n",
       " 12702,\n",
       " 40936,\n",
       " 98910,\n",
       " 38689,\n",
       " 90383,\n",
       " 34224,\n",
       " 20798,\n",
       " 77284,\n",
       " 46550,\n",
       " 47435,\n",
       " 86492,\n",
       " 54511,\n",
       " 38276,\n",
       " 32331,\n",
       " 32966,\n",
       " 62297,\n",
       " 59770,\n",
       " 24896,\n",
       " 68791,\n",
       " 79735,\n",
       " 28767,\n",
       " 49927,\n",
       " 15176,\n",
       " 29122,\n",
       " 88879,\n",
       " 17277,\n",
       " 45863,\n",
       " 13095,\n",
       " 52263,\n",
       " 65472,\n",
       " 22001,\n",
       " 62467,\n",
       " 56167,\n",
       " 64106,\n",
       " 24922,\n",
       " 63520,\n",
       " 64918,\n",
       " 51365,\n",
       " 17205,\n",
       " 86769,\n",
       " 50623,\n",
       " 89530,\n",
       " 51713,\n",
       " 71548,\n",
       " 33964,\n",
       " 84952,\n",
       " 20211,\n",
       " 69452,\n",
       " 51007,\n",
       " 35171,\n",
       " 67729,\n",
       " 82624,\n",
       " 24619,\n",
       " 61831,\n",
       " 83071,\n",
       " 23735,\n",
       " 27315]"
      ]
     },
     "execution_count": 16,
     "metadata": {},
     "output_type": "execute_result"
    }
   ],
   "source": [
    "commonPatient"
   ]
  },
  {
   "cell_type": "markdown",
   "metadata": {},
   "source": [
    "Getting the maximum rows for records and patient info"
   ]
  },
  {
   "cell_type": "code",
   "execution_count": 17,
   "metadata": {},
   "outputs": [
    {
     "data": {
      "text/plain": [
       "773"
      ]
     },
     "execution_count": 17,
     "metadata": {},
     "output_type": "execute_result"
    }
   ],
   "source": [
    "max_row_records=records.max_row\n",
    "max_row_copyPatient=copyPatient.max_row\n",
    "max_row_copyPatient"
   ]
  },
  {
   "cell_type": "markdown",
   "metadata": {},
   "source": [
    "Getting the max column for records and patient info"
   ]
  },
  {
   "cell_type": "code",
   "execution_count": 18,
   "metadata": {},
   "outputs": [
    {
     "data": {
      "text/plain": [
       "6"
      ]
     },
     "execution_count": 18,
     "metadata": {},
     "output_type": "execute_result"
    }
   ],
   "source": [
    "max_col_records=records.max_column\n",
    "max_col_copyPatient=copyPatient.max_column\n",
    "max_col_copyPatient"
   ]
  },
  {
   "cell_type": "markdown",
   "metadata": {},
   "source": [
    "Activating hte patient info Copy as we will be coping data to it"
   ]
  },
  {
   "cell_type": "code",
   "execution_count": 19,
   "metadata": {},
   "outputs": [],
   "source": [
    "wb.active=2"
   ]
  },
  {
   "cell_type": "code",
   "execution_count": 20,
   "metadata": {},
   "outputs": [
    {
     "data": {
      "text/plain": [
       "<Worksheet \"patient info Copy\">"
      ]
     },
     "execution_count": 20,
     "metadata": {},
     "output_type": "execute_result"
    }
   ],
   "source": [
    "wb.active"
   ]
  },
  {
   "cell_type": "markdown",
   "metadata": {},
   "source": [
    "#### Coping the common id's which are in records and patient info\n",
    "copyRows= rows of copyPatient <br>\n",
    "copyCol=column of copyPatient<br>\n",
    "recRows = Rows of Records<br>\n",
    "recCol = Column of Record<br>"
   ]
  },
  {
   "cell_type": "code",
   "execution_count": 21,
   "metadata": {},
   "outputs": [],
   "source": [
    "#copyCol=max_col_copyPatient       \n",
    "for copyRows in range(1,max_row_copyPatient+1):# iterating copypatient\n",
    "    if(str(copyPatient.cell(row=copyRows, column=1).value)) in str(commonPatient): # cheking for id in common list\n",
    "        copyCol=max_col_copyPatient # Assigning the 6 value to copycol\n",
    "        for recRows in range(1,max_row_records+1):# interating records to find the above copy Patient value\n",
    "            if(str(copyPatient.cell(row=copyRows, column=1).value)) == (str(records.cell(row=recRows, column=1).value)):#finding the position in records\n",
    "                for recCol in range(1,max_col_records+1):\n",
    "                    copyCol=copyCol+1\n",
    "                    copyPatient.cell(row=copyRows, column=copyCol).value=records.cell(row=recRows,column=recCol).value # Putting all the values of that columns into copypatient"
   ]
  },
  {
   "cell_type": "markdown",
   "metadata": {},
   "source": [
    "Initializing variable with max value"
   ]
  },
  {
   "cell_type": "code",
   "execution_count": 22,
   "metadata": {},
   "outputs": [],
   "source": [
    "copyRows= max_row_copyPatient\n",
    "copyCol=max_col_copyPatient"
   ]
  },
  {
   "cell_type": "markdown",
   "metadata": {},
   "source": [
    "#### Coping the non common id's value from Records to copyPatient"
   ]
  },
  {
   "cell_type": "code",
   "execution_count": 26,
   "metadata": {
    "scrolled": true
   },
   "outputs": [],
   "source": [
    "for recRows in range(1,max_row_records+1):\n",
    "    if (str(records.cell(row=recRows, column=1).value)) in str(notCommonPatient):#checking form not common list\n",
    "        copyRows=copyRows+1\n",
    "        copyCol=max_col_copyPatient\n",
    "        for recCol in range(1,max_col_records+1):\n",
    "            copyCol=copyCol+1\n",
    "            copyPatient.cell(row=copyRows, column=copyCol).value=records.cell(row=recRows,column=recCol).value \n",
    "            # putting the not common values in the row=774 and column = 7 and soo on\n",
    "            # can also put the values in row=774, column=1, but to symmetric of record data kept it on 7"
   ]
  },
  {
   "cell_type": "code",
   "execution_count": 24,
   "metadata": {},
   "outputs": [
    {
     "data": {
      "text/plain": [
       "64"
      ]
     },
     "execution_count": 24,
     "metadata": {},
     "output_type": "execute_result"
    }
   ],
   "source": [
    " copyPatient.max_column"
   ]
  },
  {
   "cell_type": "markdown",
   "metadata": {},
   "source": [
    "#### Saving the Workbook"
   ]
  },
  {
   "cell_type": "code",
   "execution_count": 25,
   "metadata": {},
   "outputs": [],
   "source": [
    "wb.save('week_05_homework_XLSX_openpyxl.xlsx')"
   ]
  }
 ],
 "metadata": {
  "kernelspec": {
   "display_name": "Python 3",
   "language": "python",
   "name": "python3"
  },
  "language_info": {
   "codemirror_mode": {
    "name": "ipython",
    "version": 3
   },
   "file_extension": ".py",
   "mimetype": "text/x-python",
   "name": "python",
   "nbconvert_exporter": "python",
   "pygments_lexer": "ipython3",
   "version": "3.7.3"
  }
 },
 "nbformat": 4,
 "nbformat_minor": 2
}
