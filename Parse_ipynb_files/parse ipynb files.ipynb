{
 "cells": [
  {
   "cell_type": "markdown",
   "metadata": {},
   "source": [
    "<br>\n",
    "\n",
    "Look for .ipynb files using the glob module in Python​.<br>\n",
    "Your analysis should include at least eight .ipynb files. ​.<br>\n",
    "Files used for code other than assignments (eg projects, work from other courses) is acceptable to include ​.<br>\n",
    "Create functions that parse the file and find modules.​.<br>\n",
    "Use a loop to call the functions on each file.​.<br>\n",
    "Look for code cells (ignore Markdown and raw cells)​.<br>\n",
    "Look for lines of code that start with either \"from\" or \"import\"​​.<br>​\n",
    "Look for the keywords only in code input (rather than including cell output content)​.<br>​\n",
    "Result is a list of unique modules used. The list doesn't need to include specific functions. For example, in ​.<br>\n",
    "\n",
    "from math import pi\n",
    "\n",
    "The relevant module is math"
   ]
  },
  {
   "cell_type": "code",
   "execution_count": 1,
   "metadata": {},
   "outputs": [],
   "source": [
    "import os\n",
    "import json\n",
    "import fnmatch"
   ]
  },
  {
   "cell_type": "markdown",
   "metadata": {},
   "source": [
    "This method will find each import from the files and add it to the list"
   ]
  },
  {
   "cell_type": "code",
   "execution_count": 2,
   "metadata": {},
   "outputs": [],
   "source": [
    "def fetchImport(file_name):\n",
    "    data = json.load(open(file_name,\"r\"))\n",
    "    for item in data['cells']:\n",
    "        for code in item['source']:\n",
    "            if 'import' in code:\n",
    "                allImports.append(code)"
   ]
  },
  {
   "cell_type": "code",
   "execution_count": 3,
   "metadata": {},
   "outputs": [
    {
     "name": "stdout",
     "output_type": "stream",
     "text": [
      "HW_files/fourier_transform.ipynb\n",
      "HW_files/generate_HTML_using_jinja2.ipynb\n",
      "HW_files/Glassdoor_Project2 - with Test code.ipynb\n",
      "HW_files/modeling_random_coin_flips_visualization.ipynb\n",
      "HW_files/order_distinguishes_time_series.ipynb\n",
      "HW_files/plotting_timeseries_data.ipynb\n",
      "HW_files/Python Numpy.ipynb\n",
      "HW_files/temporal_anomalies_and_bin_alignment.ipynb\n"
     ]
    }
   ],
   "source": [
    "foldr='HW_files/'\n",
    "allImports=[]\n",
    "count=0\n",
    "for file_name in os.listdir(foldr):\n",
    "    if fnmatch.fnmatch(file_name, '*.ipynb'):\n",
    "        print(foldr+file_name)\n",
    "        fetchImport(foldr+file_name)# method call\n",
    "        #Code to count lines of code\n",
    "        data = json.load(open(foldr+file_name,\"r\"))\n",
    "        for item in data['cells']:\n",
    "            # each list represent a noteboo cell and length of list represent the number of line of code in one cell\n",
    "            count=count+len(item['source']) # final count will be the total line of code written"
   ]
  },
  {
   "cell_type": "code",
   "execution_count": 4,
   "metadata": {},
   "outputs": [],
   "source": [
    "releventImports=[]\n",
    "for imports in allImports:\n",
    "    if 'from' in imports:# working to remove 'from'\n",
    "        string=imports.replace('from', '')\n",
    "        if (string.split( )[0]) not in releventImports:\n",
    "            releventImports.append(string.split( )[0])\n",
    "    elif 'import' in imports:# working to remove 'import'\n",
    "        string=imports.replace('import', '')\n",
    "        if (string.split( )[0]) not in releventImports:\n",
    "            releventImports.append(string.split( )[0])"
   ]
  },
  {
   "cell_type": "code",
   "execution_count": 5,
   "metadata": {},
   "outputs": [
    {
     "data": {
      "text/plain": [
       "['numpy',\n",
       " 'random',\n",
       " 'pandas',\n",
       " 'matplotlib.pyplot',\n",
       " 'scipy',\n",
       " 'sys',\n",
       " 'jinja2',\n",
       " 'seaborn',\n",
       " 'pickle',\n",
       " 'pytz',\n",
       " 'time',\n",
       " 'datetime']"
      ]
     },
     "execution_count": 5,
     "metadata": {},
     "output_type": "execute_result"
    }
   ],
   "source": [
    "releventImports #All the imports used "
   ]
  },
  {
   "cell_type": "markdown",
   "metadata": {},
   "source": [
    "'count' represent the total number of line of code written"
   ]
  },
  {
   "cell_type": "code",
   "execution_count": 6,
   "metadata": {},
   "outputs": [
    {
     "data": {
      "text/plain": [
       "692"
      ]
     },
     "execution_count": 6,
     "metadata": {},
     "output_type": "execute_result"
    }
   ],
   "source": [
    "count"
   ]
  }
 ],
 "metadata": {
  "kernelspec": {
   "display_name": "Python 3",
   "language": "python",
   "name": "python3"
  },
  "language_info": {
   "codemirror_mode": {
    "name": "ipython",
    "version": 3
   },
   "file_extension": ".py",
   "mimetype": "text/x-python",
   "name": "python",
   "nbconvert_exporter": "python",
   "pygments_lexer": "ipython3",
   "version": "3.7.3"
  }
 },
 "nbformat": 4,
 "nbformat_minor": 2
}
