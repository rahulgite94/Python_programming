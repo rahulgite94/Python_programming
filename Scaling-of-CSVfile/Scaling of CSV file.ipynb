{
 "cells": [
  {
   "cell_type": "markdown",
   "metadata": {},
   "source": [
    "Write Python code that can create a CSV containing 10 columns of text data​\n",
    "\n",
    "Each entry in each row should be between 3 and 25 characters​\n",
    "Adjacent rows in a CSV should not be the same​\n",
    "Generate files of size {0.1, 1, 5, 10, 100, 500} MB of data​\n",
    "Execution time for creating all of the CSV files should take less than 5 minutes. (Email me if you do not solve this in less than an hour.)​ ​\n",
    "\n",
    "The precision of the file sizes is +/- 20%.\n",
    "\n",
    "Measure how much time it takes to write each CSV file to disk. In your measurement do not include the time used in creating the CSV files. Perform this measurement three times per file size. Each measurement is of a different CSV. That's three different files per file size.​\n",
    "\n",
    "Measure how much time it takes for your computer to load the data from the CSV on disk into a Pandas dataframe. Perform this measurement three times per file size. Each measurement is of a different CSV.​\n",
    "\n",
    "Results: ​\n",
    "\n",
    "table of values (file size versus read time and write time for each experiment) ​\n",
    "Plot the average write times and average load times versus file size in a single scatter plot​ with semilogx scale\n",
    "Submit your python notebook (.ipynb file) containing the code for the experiment (creating files, running the timing experiments) and the results. ​\n",
    "\n",
    "Do not include the CSV files in your submission.\n",
    "\n"
   ]
  },
  {
   "cell_type": "code",
   "execution_count": 1,
   "metadata": {},
   "outputs": [],
   "source": [
    "import pandas as pd\n",
    "import numpy as np\n",
    "import random\n",
    "import string\n",
    "import time\n",
    "from faker import Faker\n",
    "from faker.providers import internet\n",
    "import os\n",
    "import matplotlib.pyplot as plt"
   ]
  },
  {
   "cell_type": "code",
   "execution_count": 2,
   "metadata": {},
   "outputs": [],
   "source": [
    "stt= time.time()"
   ]
  },
  {
   "cell_type": "markdown",
   "metadata": {},
   "source": [
    "Creating an empty Data Frame and Faker object"
   ]
  },
  {
   "cell_type": "code",
   "execution_count": 3,
   "metadata": {},
   "outputs": [],
   "source": [
    "data = pd.DataFrame()\n",
    "fake=Faker()"
   ]
  },
  {
   "cell_type": "markdown",
   "metadata": {},
   "source": [
    "Creating the files to write the data, File name represents the size of the file"
   ]
  },
  {
   "cell_type": "code",
   "execution_count": 4,
   "metadata": {},
   "outputs": [],
   "source": [
    "def createFile():\n",
    "    data.to_csv(\".1_1.csv\",index=True)\n",
    "    data.to_csv(\"1_1.csv\",index=True)\n",
    "    data.to_csv(\"5_1.csv\",index=True)\n",
    "    data.to_csv(\"10_1.csv\",index=True)\n",
    "    data.to_csv(\"100_1.csv\",index=True)\n",
    "    data.to_csv(\"500_1.csv\",index=True)"
   ]
  },
  {
   "cell_type": "code",
   "execution_count": 5,
   "metadata": {},
   "outputs": [],
   "source": [
    "createFile()"
   ]
  },
  {
   "cell_type": "markdown",
   "metadata": {},
   "source": [
    "This Function will generate the dataframe in write it to a file. A fake list is created with different fake parameters and then\n",
    "sampled to append in a dataframe."
   ]
  },
  {
   "cell_type": "code",
   "execution_count": 6,
   "metadata": {},
   "outputs": [],
   "source": [
    "def createFakeDF(sets,filename):\n",
    "    df=pd.DataFrame()\n",
    "    listt=[fake.name(),fake.address(),fake.email(),fake.text(),fake.country(),fake.url(),fake.century(),fake.credit_card_number(),fake.date(),fake.first_name()]\n",
    "    for _ in range(sets):\n",
    "        x=[]\n",
    "        for i in range(10000):\n",
    "            x.append(random.sample(listt, len(listt))) # Sampling the fake list instead of creating a new one each time to reduce the execution time\n",
    "        df=df.append(x)\n",
    "    with open(filename, 'a') as f:# Writing to a file\n",
    "        df.to_csv(f, header=False)"
   ]
  },
  {
   "cell_type": "markdown",
   "metadata": {},
   "source": [
    "Creating and writing to make .1 MB file, returning the time taken to perform this action and the size of the file"
   ]
  },
  {
   "cell_type": "code",
   "execution_count": 7,
   "metadata": {},
   "outputs": [],
   "source": [
    "def createLessThan1MBfile(fileName):\n",
    "    start_time = time.time()\n",
    "    df=pd.DataFrame()\n",
    "    listt=[fake.name(),fake.address(),fake.email(),fake.text(),fake.country(),fake.url(),fake.century(),fake.credit_card_number(),fake.date(),fake.first_name()]\n",
    "    x=[]\n",
    "    for i in range(500):\n",
    "        x.append(random.sample(listt, len(listt)))\n",
    "    df=df.append(x)\n",
    "    with open(fileName, 'a') as f:\n",
    "        df.to_csv(f, header=False)\n",
    "    #createFakeDF(1,fileName)\n",
    "    timee=round(time.time() - start_time,2)\n",
    "    size=round(os.path.getsize(fileName)/(1024*1024),2)\n",
    "    return timee,size"
   ]
  },
  {
   "cell_type": "markdown",
   "metadata": {},
   "source": [
    "Creating and writing to make 1 MB file,  returning the time taken to perform this action and the size of the file"
   ]
  },
  {
   "cell_type": "code",
   "execution_count": 8,
   "metadata": {},
   "outputs": [],
   "source": [
    "def creat1MBFile(fileName):\n",
    "    start_time = time.time()\n",
    "    df=pd.DataFrame()\n",
    "    listt=[fake.name(),fake.address(),fake.email(),fake.text(),fake.country(),fake.url(),fake.century(),fake.credit_card_number(),fake.date(),fake.first_name()]\n",
    "    x=[]\n",
    "    for i in range(5000):\n",
    "        x.append(random.sample(listt, len(listt)))\n",
    "    df=df.append(x)\n",
    "    with open(fileName, 'a') as f:\n",
    "        df.to_csv(f, header=False)\n",
    "    timee=round(time.time() - start_time,2)\n",
    "    size=round(os.path.getsize(fileName)/(1024*1024),2)\n",
    "    return timee,size"
   ]
  },
  {
   "cell_type": "markdown",
   "metadata": {},
   "source": [
    "As the file is bigger in size to calling the function to generate and write the data into 5MB file,  returning the time taken to perform this action and the size of the file"
   ]
  },
  {
   "cell_type": "code",
   "execution_count": 9,
   "metadata": {},
   "outputs": [],
   "source": [
    "def creat5MBFile(fileName):\n",
    "    start_time = time.time()\n",
    "    createFakeDF(2,fileName)\n",
    "    timee=round(time.time() - start_time,2)\n",
    "    size=round(os.path.getsize(fileName)/(1024*1024),2)\n",
    "    return timee,size"
   ]
  },
  {
   "cell_type": "markdown",
   "metadata": {},
   "source": [
    "Function to generate 10MB file,  returning the time taken to perform this action and the size of the file"
   ]
  },
  {
   "cell_type": "code",
   "execution_count": 10,
   "metadata": {
    "scrolled": true
   },
   "outputs": [],
   "source": [
    "def creat10MBFile(fileName):\n",
    "    start_time = time.time()\n",
    "    createFakeDF(4,fileName)\n",
    "    timee=round(time.time() - start_time,2)\n",
    "    size=round(os.path.getsize(fileName)/(1024*1024),2)\n",
    "    return timee,size"
   ]
  },
  {
   "cell_type": "markdown",
   "metadata": {},
   "source": [
    "Function to generate 100MB file,  returning the time taken to perform this action and the size of the file"
   ]
  },
  {
   "cell_type": "code",
   "execution_count": 11,
   "metadata": {},
   "outputs": [],
   "source": [
    "def creat100MBFile(fileName):\n",
    "    start_time = time.time()\n",
    "    createFakeDF(37,fileName)\n",
    "    timee=round(time.time() - start_time,2)\n",
    "    size=round(os.path.getsize(fileName)/(1024*1024),2)\n",
    "    return timee,size"
   ]
  },
  {
   "cell_type": "markdown",
   "metadata": {},
   "source": [
    "Function to generate 500MB file,  returning the time taken to perform this action and the size of the file"
   ]
  },
  {
   "cell_type": "code",
   "execution_count": 12,
   "metadata": {},
   "outputs": [],
   "source": [
    "def creat500MBFile(fileName):\n",
    "    start_time = time.time()\n",
    "    createFakeDF(150,fileName)\n",
    "    timee=round(time.time() - start_time,2)\n",
    "    size=round(os.path.getsize(fileName)/(1024*1024),2)\n",
    "    return timee,size"
   ]
  },
  {
   "cell_type": "markdown",
   "metadata": {},
   "source": [
    "This cell calls each of the method above to create the respective file of respective size. The measurement is performed 3 times\n",
    "and the time taken and size of the files are extended to the list name write_time, size"
   ]
  },
  {
   "cell_type": "code",
   "execution_count": 13,
   "metadata": {},
   "outputs": [
    {
     "name": "stdout",
     "output_type": "stream",
     "text": [
      "Final Time is: 444.96\n"
     ]
    }
   ],
   "source": [
    "st= time.time()\n",
    "size=[]\n",
    "write_time=[]\n",
    "for _ in range(3):\n",
    "    createFile()\n",
    "    write_time_L1, size_L1=createLessThan1MBfile(\".1_1.csv\")\n",
    "    write_time_1, size_1=creat1MBFile(\"1_1.csv\")\n",
    "    write_time_5, size_5=creat5MBFile(\"5_1.csv\")\n",
    "    write_time_10, size_10=creat10MBFile(\"10_1.csv\")\n",
    "    write_time_100, size_100=creat100MBFile(\"100_1.csv\")\n",
    "    write_time_500, size_500=creat500MBFile(\"500_1.csv\")\n",
    "    size.extend((size_L1, size_1, size_5, size_10, size_100, size_500))\n",
    "    write_time.extend((write_time_L1, write_time_1, write_time_5,write_time_10,write_time_100,write_time_500))\n",
    "print('Final Time is:',round(time.time() - st,2))\n",
    "#print(os.stat('.1.csv').st_size)"
   ]
  },
  {
   "cell_type": "markdown",
   "metadata": {},
   "source": [
    "Function to read the file and return the time taken"
   ]
  },
  {
   "cell_type": "code",
   "execution_count": 14,
   "metadata": {},
   "outputs": [],
   "source": [
    "def readCSV(fileName):\n",
    "    start_time = time.time()\n",
    "    x=pd.read_csv(fileName, error_bad_lines=False)\n",
    "    return round(time.time() - start_time,2)"
   ]
  },
  {
   "cell_type": "markdown",
   "metadata": {},
   "source": [
    "Performed the read action 3 times and time were extended to read_time list"
   ]
  },
  {
   "cell_type": "code",
   "execution_count": 15,
   "metadata": {},
   "outputs": [],
   "source": [
    "read_time=[]\n",
    "for _ in range(3):\n",
    "    time_L1=readCSV(\".1_1.csv\")\n",
    "    time_1=readCSV(\"1_1.csv\")\n",
    "    time_5=readCSV(\"5_1.csv\")\n",
    "    time_10=readCSV(\"10_1.csv\")\n",
    "    time_100=readCSV(\"100_1.csv\")\n",
    "    time_500=readCSV(\"500_1.csv\")\n",
    "    read_time.extend((time_L1,time_1,time_5,time_10,time_100,time_500))"
   ]
  },
  {
   "cell_type": "markdown",
   "metadata": {},
   "source": [
    "Created a DataFrame with size, write_time, read_time lists"
   ]
  },
  {
   "cell_type": "code",
   "execution_count": 16,
   "metadata": {},
   "outputs": [],
   "source": [
    "Scaling_Data = pd.DataFrame(list(zip(size, write_time, read_time)), \n",
    "               columns =['File_Size', 'Write_Time','Read_Time']) "
   ]
  },
  {
   "cell_type": "code",
   "execution_count": 17,
   "metadata": {},
   "outputs": [
    {
     "data": {
      "text/html": [
       "<div>\n",
       "<style scoped>\n",
       "    .dataframe tbody tr th:only-of-type {\n",
       "        vertical-align: middle;\n",
       "    }\n",
       "\n",
       "    .dataframe tbody tr th {\n",
       "        vertical-align: top;\n",
       "    }\n",
       "\n",
       "    .dataframe thead th {\n",
       "        text-align: right;\n",
       "    }\n",
       "</style>\n",
       "<table border=\"1\" class=\"dataframe\">\n",
       "  <thead>\n",
       "    <tr style=\"text-align: right;\">\n",
       "      <th></th>\n",
       "      <th>File_Size</th>\n",
       "      <th>Write_Time</th>\n",
       "      <th>Read_Time</th>\n",
       "    </tr>\n",
       "  </thead>\n",
       "  <tbody>\n",
       "    <tr>\n",
       "      <th>0</th>\n",
       "      <td>0.16</td>\n",
       "      <td>0.03</td>\n",
       "      <td>0.12</td>\n",
       "    </tr>\n",
       "    <tr>\n",
       "      <th>1</th>\n",
       "      <td>1.51</td>\n",
       "      <td>0.30</td>\n",
       "      <td>0.11</td>\n",
       "    </tr>\n",
       "    <tr>\n",
       "      <th>2</th>\n",
       "      <td>6.33</td>\n",
       "      <td>1.25</td>\n",
       "      <td>0.22</td>\n",
       "    </tr>\n",
       "    <tr>\n",
       "      <th>3</th>\n",
       "      <td>12.66</td>\n",
       "      <td>2.75</td>\n",
       "      <td>0.38</td>\n",
       "    </tr>\n",
       "    <tr>\n",
       "      <th>4</th>\n",
       "      <td>120.29</td>\n",
       "      <td>27.86</td>\n",
       "      <td>3.18</td>\n",
       "    </tr>\n",
       "    <tr>\n",
       "      <th>5</th>\n",
       "      <td>499.09</td>\n",
       "      <td>118.26</td>\n",
       "      <td>13.00</td>\n",
       "    </tr>\n",
       "    <tr>\n",
       "      <th>6</th>\n",
       "      <td>0.16</td>\n",
       "      <td>0.03</td>\n",
       "      <td>0.03</td>\n",
       "    </tr>\n",
       "    <tr>\n",
       "      <th>7</th>\n",
       "      <td>1.43</td>\n",
       "      <td>0.36</td>\n",
       "      <td>0.06</td>\n",
       "    </tr>\n",
       "    <tr>\n",
       "      <th>8</th>\n",
       "      <td>5.87</td>\n",
       "      <td>1.38</td>\n",
       "      <td>0.23</td>\n",
       "    </tr>\n",
       "    <tr>\n",
       "      <th>9</th>\n",
       "      <td>14.42</td>\n",
       "      <td>2.98</td>\n",
       "      <td>0.36</td>\n",
       "    </tr>\n",
       "    <tr>\n",
       "      <th>10</th>\n",
       "      <td>102.64</td>\n",
       "      <td>24.61</td>\n",
       "      <td>2.73</td>\n",
       "    </tr>\n",
       "    <tr>\n",
       "      <th>11</th>\n",
       "      <td>404.68</td>\n",
       "      <td>117.07</td>\n",
       "      <td>11.87</td>\n",
       "    </tr>\n",
       "    <tr>\n",
       "      <th>12</th>\n",
       "      <td>0.16</td>\n",
       "      <td>0.05</td>\n",
       "      <td>0.02</td>\n",
       "    </tr>\n",
       "    <tr>\n",
       "      <th>13</th>\n",
       "      <td>1.65</td>\n",
       "      <td>0.39</td>\n",
       "      <td>0.06</td>\n",
       "    </tr>\n",
       "    <tr>\n",
       "      <th>14</th>\n",
       "      <td>6.67</td>\n",
       "      <td>1.37</td>\n",
       "      <td>0.17</td>\n",
       "    </tr>\n",
       "    <tr>\n",
       "      <th>15</th>\n",
       "      <td>10.87</td>\n",
       "      <td>2.39</td>\n",
       "      <td>0.31</td>\n",
       "    </tr>\n",
       "    <tr>\n",
       "      <th>16</th>\n",
       "      <td>111.82</td>\n",
       "      <td>25.39</td>\n",
       "      <td>2.67</td>\n",
       "    </tr>\n",
       "    <tr>\n",
       "      <th>17</th>\n",
       "      <td>476.20</td>\n",
       "      <td>118.23</td>\n",
       "      <td>12.14</td>\n",
       "    </tr>\n",
       "  </tbody>\n",
       "</table>\n",
       "</div>"
      ],
      "text/plain": [
       "    File_Size  Write_Time  Read_Time\n",
       "0        0.16        0.03       0.12\n",
       "1        1.51        0.30       0.11\n",
       "2        6.33        1.25       0.22\n",
       "3       12.66        2.75       0.38\n",
       "4      120.29       27.86       3.18\n",
       "5      499.09      118.26      13.00\n",
       "6        0.16        0.03       0.03\n",
       "7        1.43        0.36       0.06\n",
       "8        5.87        1.38       0.23\n",
       "9       14.42        2.98       0.36\n",
       "10     102.64       24.61       2.73\n",
       "11     404.68      117.07      11.87\n",
       "12       0.16        0.05       0.02\n",
       "13       1.65        0.39       0.06\n",
       "14       6.67        1.37       0.17\n",
       "15      10.87        2.39       0.31\n",
       "16     111.82       25.39       2.67\n",
       "17     476.20      118.23      12.14"
      ]
     },
     "execution_count": 17,
     "metadata": {},
     "output_type": "execute_result"
    }
   ],
   "source": [
    "Scaling_Data"
   ]
  },
  {
   "cell_type": "markdown",
   "metadata": {},
   "source": [
    "Scatter Plot for the Write time and Read time to the file size"
   ]
  },
  {
   "cell_type": "code",
   "execution_count": 18,
   "metadata": {},
   "outputs": [
    {
     "data": {
      "image/png": "[encoded data removed]",
      "text/plain": [
       "<Figure size 432x288 with 1 Axes>"
      ]
     },
     "metadata": {
      "needs_background": "light"
     },
     "output_type": "display_data"
    }
   ],
   "source": [
    "fig = plt.figure()\n",
    "ax = plt.gca()\n",
    "plt.scatter(Scaling_Data['File_Size'], Scaling_Data['Write_Time'], color='r', label='Write Time')\n",
    "plt.scatter(Scaling_Data['File_Size'], Scaling_Data['Read_Time'] , color='g', label='Read Time')\n",
    "plt.xlabel('File Size (MB)')\n",
    "plt.ylabel('Time(sec)')\n",
    "plt.legend()\n",
    "ax.set_yscale('log')\n",
    "ax.set_xscale('log')\n",
    "plt.show()"
   ]
  },
  {
   "cell_type": "code",
   "execution_count": 19,
   "metadata": {},
   "outputs": [
    {
     "name": "stdout",
     "output_type": "stream",
     "text": [
      "496.91\n"
     ]
    }
   ],
   "source": [
    "print(round(time.time() - stt,2))"
   ]
  }
 ],
 "metadata": {
  "kernelspec": {
   "display_name": "Python 3",
   "language": "python",
   "name": "python3"
  },
  "language_info": {
   "codemirror_mode": {
    "name": "ipython",
    "version": 3
   },
   "file_extension": ".py",
   "mimetype": "text/x-python",
   "name": "python",
   "nbconvert_exporter": "python",
   "pygments_lexer": "ipython3",
   "version": "3.7.3"
  }
 },
 "nbformat": 4,
 "nbformat_minor": 2
}
